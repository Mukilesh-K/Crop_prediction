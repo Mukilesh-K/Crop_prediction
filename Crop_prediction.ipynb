{
  "nbformat": 4,
  "nbformat_minor": 0,
  "metadata": {
    "kernelspec": {
      "display_name": "Python 3",
      "language": "python",
      "name": "python3"
    },
    "language_info": {
      "codemirror_mode": {
        "name": "ipython",
        "version": 3
      },
      "file_extension": ".py",
      "mimetype": "text/x-python",
      "name": "python",
      "nbconvert_exporter": "python",
      "pygments_lexer": "ipython3",
      "version": "3.7.6"
    },
    "colab": {
      "name": "Crop_prediction.ipynb",
      "provenance": [],
      "collapsed_sections": [
        "SslVmcVnCDAk",
        "xAJx9R3QCDAp",
        "7l9HJyjlCDAr",
        "YsYmN1meCDAx",
        "q65pcEJBCDA2",
        "9Gijp68FCDA4",
        "3PsiBSMaCDA7",
        "sZivZRikCDBA",
        "fbp7S70qCDBG",
        "9r0g2v9CCDBJ",
        "PTEKZPnICDBk",
        "FUnCI-B7CDBm",
        "KqXtMw2aCDBp",
        "HxwOCSblCDBs"
      ]
    }
  },
  "cells": [
    {
      "cell_type": "code",
      "metadata": {
        "id": "uz4eeVgFCC_Y"
      },
      "source": [
        "import pandas as pd\n",
        "import numpy as np\n",
        "import matplotlib.pyplot as plt\n",
        "import seaborn as sns\n",
        "%matplotlib inline"
      ],
      "execution_count": null,
      "outputs": []
    },
    {
      "cell_type": "markdown",
      "metadata": {
        "id": "cI6dI_WPCC_d"
      },
      "source": [
        "# Collecting Data"
      ]
    },
    {
      "cell_type": "markdown",
      "metadata": {
        "id": "Y6a71r10X16Z"
      },
      "source": [
        "## I have uploaded the agriculture data excel file in my colab (Upload to session storage)"
      ]
    },
    {
      "cell_type": "code",
      "metadata": {
        "id": "-RsnYTQ4CC_h"
      },
      "source": [
        "data = pd.read_excel('agricultue_data.xlsx')"
      ],
      "execution_count": null,
      "outputs": []
    },
    {
      "cell_type": "code",
      "metadata": {
        "colab": {
          "base_uri": "https://localhost:8080/",
          "height": 204
        },
        "id": "sNWXH49vCC_i",
        "outputId": "075e1dfa-f458-4eb1-f3b6-77d545859e29"
      },
      "source": [
        "data.head()"
      ],
      "execution_count": null,
      "outputs": [
        {
          "output_type": "execute_result",
          "data": {
            "text/html": [
              "<div>\n",
              "<style scoped>\n",
              "    .dataframe tbody tr th:only-of-type {\n",
              "        vertical-align: middle;\n",
              "    }\n",
              "\n",
              "    .dataframe tbody tr th {\n",
              "        vertical-align: top;\n",
              "    }\n",
              "\n",
              "    .dataframe thead th {\n",
              "        text-align: right;\n",
              "    }\n",
              "</style>\n",
              "<table border=\"1\" class=\"dataframe\">\n",
              "  <thead>\n",
              "    <tr style=\"text-align: right;\">\n",
              "      <th></th>\n",
              "      <th>Sl no.</th>\n",
              "      <th>District Name</th>\n",
              "      <th>Market Name</th>\n",
              "      <th>Commodity</th>\n",
              "      <th>Variety</th>\n",
              "      <th>Grade</th>\n",
              "      <th>Min Price (Rs./Quintal)</th>\n",
              "      <th>Max Price (Rs./Quintal)</th>\n",
              "      <th>Modal Price (Rs./Quintal)</th>\n",
              "      <th>Price Date</th>\n",
              "    </tr>\n",
              "  </thead>\n",
              "  <tbody>\n",
              "    <tr>\n",
              "      <th>0</th>\n",
              "      <td>1</td>\n",
              "      <td>Agra</td>\n",
              "      <td>Achnera</td>\n",
              "      <td>Potato</td>\n",
              "      <td>Desi</td>\n",
              "      <td>FAQ</td>\n",
              "      <td>900</td>\n",
              "      <td>1000</td>\n",
              "      <td>950</td>\n",
              "      <td>2020-12-30</td>\n",
              "    </tr>\n",
              "    <tr>\n",
              "      <th>1</th>\n",
              "      <td>2</td>\n",
              "      <td>Agra</td>\n",
              "      <td>Achnera</td>\n",
              "      <td>Potato</td>\n",
              "      <td>Desi</td>\n",
              "      <td>FAQ</td>\n",
              "      <td>800</td>\n",
              "      <td>900</td>\n",
              "      <td>850</td>\n",
              "      <td>2020-12-29</td>\n",
              "    </tr>\n",
              "    <tr>\n",
              "      <th>2</th>\n",
              "      <td>3</td>\n",
              "      <td>Agra</td>\n",
              "      <td>Achnera</td>\n",
              "      <td>Potato</td>\n",
              "      <td>Desi</td>\n",
              "      <td>FAQ</td>\n",
              "      <td>850</td>\n",
              "      <td>950</td>\n",
              "      <td>900</td>\n",
              "      <td>2020-12-28</td>\n",
              "    </tr>\n",
              "    <tr>\n",
              "      <th>3</th>\n",
              "      <td>4</td>\n",
              "      <td>Agra</td>\n",
              "      <td>Achnera</td>\n",
              "      <td>Potato</td>\n",
              "      <td>Desi</td>\n",
              "      <td>FAQ</td>\n",
              "      <td>800</td>\n",
              "      <td>900</td>\n",
              "      <td>850</td>\n",
              "      <td>2020-12-27</td>\n",
              "    </tr>\n",
              "    <tr>\n",
              "      <th>4</th>\n",
              "      <td>5</td>\n",
              "      <td>Agra</td>\n",
              "      <td>Achnera</td>\n",
              "      <td>Potato</td>\n",
              "      <td>Desi</td>\n",
              "      <td>FAQ</td>\n",
              "      <td>800</td>\n",
              "      <td>900</td>\n",
              "      <td>850</td>\n",
              "      <td>2020-12-26</td>\n",
              "    </tr>\n",
              "  </tbody>\n",
              "</table>\n",
              "</div>"
            ],
            "text/plain": [
              "   Sl no. District Name  ... Modal Price (Rs./Quintal) Price Date\n",
              "0       1          Agra  ...                       950 2020-12-30\n",
              "1       2          Agra  ...                       850 2020-12-29\n",
              "2       3          Agra  ...                       900 2020-12-28\n",
              "3       4          Agra  ...                       850 2020-12-27\n",
              "4       5          Agra  ...                       850 2020-12-26\n",
              "\n",
              "[5 rows x 10 columns]"
            ]
          },
          "metadata": {},
          "execution_count": 6
        }
      ]
    },
    {
      "cell_type": "code",
      "metadata": {
        "colab": {
          "base_uri": "https://localhost:8080/",
          "height": 204
        },
        "id": "JTBhUrlDCC_n",
        "outputId": "68f6f9f8-7d75-4ae2-f59d-fc4f89055020"
      },
      "source": [
        "data.tail()"
      ],
      "execution_count": null,
      "outputs": [
        {
          "output_type": "execute_result",
          "data": {
            "text/html": [
              "<div>\n",
              "<style scoped>\n",
              "    .dataframe tbody tr th:only-of-type {\n",
              "        vertical-align: middle;\n",
              "    }\n",
              "\n",
              "    .dataframe tbody tr th {\n",
              "        vertical-align: top;\n",
              "    }\n",
              "\n",
              "    .dataframe thead th {\n",
              "        text-align: right;\n",
              "    }\n",
              "</style>\n",
              "<table border=\"1\" class=\"dataframe\">\n",
              "  <thead>\n",
              "    <tr style=\"text-align: right;\">\n",
              "      <th></th>\n",
              "      <th>Sl no.</th>\n",
              "      <th>District Name</th>\n",
              "      <th>Market Name</th>\n",
              "      <th>Commodity</th>\n",
              "      <th>Variety</th>\n",
              "      <th>Grade</th>\n",
              "      <th>Min Price (Rs./Quintal)</th>\n",
              "      <th>Max Price (Rs./Quintal)</th>\n",
              "      <th>Modal Price (Rs./Quintal)</th>\n",
              "      <th>Price Date</th>\n",
              "    </tr>\n",
              "  </thead>\n",
              "  <tbody>\n",
              "    <tr>\n",
              "      <th>1822</th>\n",
              "      <td>1823</td>\n",
              "      <td>Agra</td>\n",
              "      <td>Samsabad</td>\n",
              "      <td>Potato</td>\n",
              "      <td>Local</td>\n",
              "      <td>FAQ</td>\n",
              "      <td>1000</td>\n",
              "      <td>1200</td>\n",
              "      <td>1100</td>\n",
              "      <td>2020-01-06</td>\n",
              "    </tr>\n",
              "    <tr>\n",
              "      <th>1823</th>\n",
              "      <td>1824</td>\n",
              "      <td>Agra</td>\n",
              "      <td>Samsabad</td>\n",
              "      <td>Potato</td>\n",
              "      <td>Local</td>\n",
              "      <td>FAQ</td>\n",
              "      <td>1000</td>\n",
              "      <td>1200</td>\n",
              "      <td>1100</td>\n",
              "      <td>2020-01-05</td>\n",
              "    </tr>\n",
              "    <tr>\n",
              "      <th>1824</th>\n",
              "      <td>1825</td>\n",
              "      <td>Agra</td>\n",
              "      <td>Samsabad</td>\n",
              "      <td>Potato</td>\n",
              "      <td>Local</td>\n",
              "      <td>FAQ</td>\n",
              "      <td>1100</td>\n",
              "      <td>1300</td>\n",
              "      <td>1200</td>\n",
              "      <td>2020-01-04</td>\n",
              "    </tr>\n",
              "    <tr>\n",
              "      <th>1825</th>\n",
              "      <td>1826</td>\n",
              "      <td>Agra</td>\n",
              "      <td>Samsabad</td>\n",
              "      <td>Potato</td>\n",
              "      <td>Local</td>\n",
              "      <td>FAQ</td>\n",
              "      <td>1100</td>\n",
              "      <td>1300</td>\n",
              "      <td>1200</td>\n",
              "      <td>2020-01-02</td>\n",
              "    </tr>\n",
              "    <tr>\n",
              "      <th>1826</th>\n",
              "      <td>1827</td>\n",
              "      <td>Agra</td>\n",
              "      <td>Samsabad</td>\n",
              "      <td>Potato</td>\n",
              "      <td>Local</td>\n",
              "      <td>FAQ</td>\n",
              "      <td>1100</td>\n",
              "      <td>1300</td>\n",
              "      <td>1200</td>\n",
              "      <td>2020-01-01</td>\n",
              "    </tr>\n",
              "  </tbody>\n",
              "</table>\n",
              "</div>"
            ],
            "text/plain": [
              "      Sl no. District Name  ... Modal Price (Rs./Quintal) Price Date\n",
              "1822    1823          Agra  ...                      1100 2020-01-06\n",
              "1823    1824          Agra  ...                      1100 2020-01-05\n",
              "1824    1825          Agra  ...                      1200 2020-01-04\n",
              "1825    1826          Agra  ...                      1200 2020-01-02\n",
              "1826    1827          Agra  ...                      1200 2020-01-01\n",
              "\n",
              "[5 rows x 10 columns]"
            ]
          },
          "metadata": {},
          "execution_count": 7
        }
      ]
    },
    {
      "cell_type": "code",
      "metadata": {
        "colab": {
          "base_uri": "https://localhost:8080/"
        },
        "id": "veriqmSDDOny",
        "outputId": "1ff0a628-9bae-439d-b803-85a7727b0beb"
      },
      "source": [
        "data.shape"
      ],
      "execution_count": null,
      "outputs": [
        {
          "output_type": "execute_result",
          "data": {
            "text/plain": [
              "(1827, 10)"
            ]
          },
          "metadata": {},
          "execution_count": 8
        }
      ]
    },
    {
      "cell_type": "code",
      "metadata": {
        "colab": {
          "base_uri": "https://localhost:8080/"
        },
        "id": "OBYNWHspCC_p",
        "outputId": "0aec7939-2d3e-46b2-a9ef-9e8912bcd23c"
      },
      "source": [
        "data['Market Name'].unique()"
      ],
      "execution_count": null,
      "outputs": [
        {
          "output_type": "execute_result",
          "data": {
            "text/plain": [
              "array(['Achnera', 'Agra', 'Fatehabad', 'Fatehpur Sikri', 'Jagnair',\n",
              "       'Jarar', 'Khairagarh', 'Samsabad'], dtype=object)"
            ]
          },
          "metadata": {},
          "execution_count": 9
        }
      ]
    },
    {
      "cell_type": "code",
      "metadata": {
        "colab": {
          "base_uri": "https://localhost:8080/"
        },
        "id": "sp6_htXsCC_q",
        "outputId": "7bdd732b-874a-4bcf-f573-a93759e02804"
      },
      "source": [
        "data['Market Name'].value_counts()"
      ],
      "execution_count": null,
      "outputs": [
        {
          "output_type": "execute_result",
          "data": {
            "text/plain": [
              "Achnera           306\n",
              "Fatehpur Sikri    290\n",
              "Agra              285\n",
              "Fatehabad         258\n",
              "Jagnair           187\n",
              "Khairagarh        187\n",
              "Samsabad          168\n",
              "Jarar             146\n",
              "Name: Market Name, dtype: int64"
            ]
          },
          "metadata": {},
          "execution_count": 10
        }
      ]
    },
    {
      "cell_type": "code",
      "metadata": {
        "colab": {
          "base_uri": "https://localhost:8080/"
        },
        "id": "B_QE6l6GCC_u",
        "outputId": "764986cb-f6bb-40ff-990b-9ae6e4ecc87f"
      },
      "source": [
        "data['Grade'].unique()"
      ],
      "execution_count": null,
      "outputs": [
        {
          "output_type": "execute_result",
          "data": {
            "text/plain": [
              "array(['FAQ'], dtype=object)"
            ]
          },
          "metadata": {},
          "execution_count": 11
        }
      ]
    },
    {
      "cell_type": "code",
      "metadata": {
        "colab": {
          "base_uri": "https://localhost:8080/"
        },
        "id": "uYAqgRbACC_w",
        "outputId": "93ceb142-0124-4d6b-c7e1-27fe6837a132"
      },
      "source": [
        "data['Commodity'].unique()"
      ],
      "execution_count": null,
      "outputs": [
        {
          "output_type": "execute_result",
          "data": {
            "text/plain": [
              "array(['Potato'], dtype=object)"
            ]
          },
          "metadata": {},
          "execution_count": 12
        }
      ]
    },
    {
      "cell_type": "code",
      "metadata": {
        "colab": {
          "base_uri": "https://localhost:8080/"
        },
        "id": "ajJfN6oUCC_y",
        "outputId": "64a99d0e-2705-4d4a-d076-afa163719998"
      },
      "source": [
        "data['Variety'].unique()"
      ],
      "execution_count": null,
      "outputs": [
        {
          "output_type": "execute_result",
          "data": {
            "text/plain": [
              "array(['Desi', 'Potato', 'Local', 'Other'], dtype=object)"
            ]
          },
          "metadata": {},
          "execution_count": 13
        }
      ]
    },
    {
      "cell_type": "markdown",
      "metadata": {
        "id": "eFB4YF0qCC_z"
      },
      "source": [
        "# Identify major markets for the district “Agra” and plot price patterns for each of them."
      ]
    },
    {
      "cell_type": "code",
      "metadata": {
        "colab": {
          "base_uri": "https://localhost:8080/",
          "height": 1000
        },
        "id": "XoahsrCeCDAG",
        "outputId": "0d93c34c-4027-4592-b352-a75b608630b8"
      },
      "source": [
        "df1 = data[data['Market Name']=='Achnera']\n",
        "# plt.figure(figsize=(10,5))\n",
        "df1.plot(x='Market Name',y=['Min Price (Rs./Quintal)','Max Price (Rs./Quintal)','Modal Price (Rs./Quintal)'],kind='bar')\n",
        "df1.plot(x='Market Name',y=['Min Price (Rs./Quintal)','Max Price (Rs./Quintal)','Modal Price (Rs./Quintal)'])\n",
        "df1.plot(x='Market Name',y='Modal Price (Rs./Quintal)')\n",
        "plt.figure(figsize=(12,8))\n",
        "sns.scatterplot(x='Market Name',y='Modal Price (Rs./Quintal)',data=df1)\n"
      ],
      "execution_count": null,
      "outputs": [
        {
          "output_type": "execute_result",
          "data": {
            "text/plain": [
              "<matplotlib.axes._subplots.AxesSubplot at 0x7fd2d7d4ed10>"
            ]
          },
          "metadata": {},
          "execution_count": 14
        },
        {
          "output_type": "display_data",
          "data": {
            "image/png": "[encoded data removed]",
            "text/plain": [
              "<Figure size 432x288 with 1 Axes>"
            ]
          },
          "metadata": {
            "needs_background": "light"
          }
        },
        {
          "output_type": "display_data",
          "data": {
            "image/png": "[encoded data removed]",
            "text/plain": [
              "<Figure size 432x288 with 1 Axes>"
            ]
          },
          "metadata": {
            "needs_background": "light"
          }
        },
        {
          "output_type": "display_data",
          "data": {
            "image/png": "[encoded data removed]",
            "text/plain": [
              "<Figure size 432x288 with 1 Axes>"
            ]
          },
          "metadata": {
            "needs_background": "light"
          }
        },
        {
          "output_type": "display_data",
          "data": {
            "image/png": "[encoded data removed]",
            "text/plain": [
              "<Figure size 864x576 with 1 Axes>"
            ]
          },
          "metadata": {
            "needs_background": "light"
          }
        }
      ]
    },
    {
      "cell_type": "code",
      "metadata": {
        "id": "Bl_ckrMVCDAJ",
        "colab": {
          "base_uri": "https://localhost:8080/",
          "height": 1000
        },
        "outputId": "e1b14be5-2fb7-404f-908a-37961a6f91c4"
      },
      "source": [
        "df1 = data[data['Market Name']=='Fatehpur Sikri']\n",
        "# plt.figure(figsize=(10,5))\n",
        "df1.plot(x='Market Name',y=['Min Price (Rs./Quintal)','Max Price (Rs./Quintal)','Modal Price (Rs./Quintal)'],kind='bar')\n",
        "df1.plot(x='Market Name',y=['Min Price (Rs./Quintal)','Max Price (Rs./Quintal)','Modal Price (Rs./Quintal)'])\n",
        "df1.plot(x='Market Name',y='Modal Price (Rs./Quintal)')\n",
        "plt.figure(figsize=(12,8))\n",
        "sns.scatterplot(x='Market Name',y='Modal Price (Rs./Quintal)',data=df1)\n"
      ],
      "execution_count": null,
      "outputs": [
        {
          "output_type": "execute_result",
          "data": {
            "text/plain": [
              "<matplotlib.axes._subplots.AxesSubplot at 0x7fd2d8074d90>"
            ]
          },
          "metadata": {},
          "execution_count": 15
        },
        {
          "output_type": "display_data",
          "data": {
            "image/png": "[encoded data removed]",
            "text/plain": [
              "<Figure size 432x288 with 1 Axes>"
            ]
          },
          "metadata": {
            "needs_background": "light"
          }
        },
        {
          "output_type": "display_data",
          "data": {
            "image/png": "[encoded data removed]",
            "text/plain": [
              "<Figure size 432x288 with 1 Axes>"
            ]
          },
          "metadata": {
            "needs_background": "light"
          }
        },
        {
          "output_type": "display_data",
          "data": {
            "image/png": "[encoded data removed]",
            "text/plain": [
              "<Figure size 432x288 with 1 Axes>"
            ]
          },
          "metadata": {
            "needs_background": "light"
          }
        },
        {
          "output_type": "display_data",
          "data": {
            "image/png": "[encoded data removed]",
            "text/plain": [
              "<Figure size 864x576 with 1 Axes>"
            ]
          },
          "metadata": {
            "needs_background": "light"
          }
        }
      ]
    },
    {
      "cell_type": "code",
      "metadata": {
        "id": "soSWrqawCDAL",
        "colab": {
          "base_uri": "https://localhost:8080/",
          "height": 204
        },
        "outputId": "161e3b3a-a488-456b-d0cc-d0fb401806d5"
      },
      "source": [
        "data.head()"
      ],
      "execution_count": null,
      "outputs": [
        {
          "output_type": "execute_result",
          "data": {
            "text/html": [
              "<div>\n",
              "<style scoped>\n",
              "    .dataframe tbody tr th:only-of-type {\n",
              "        vertical-align: middle;\n",
              "    }\n",
              "\n",
              "    .dataframe tbody tr th {\n",
              "        vertical-align: top;\n",
              "    }\n",
              "\n",
              "    .dataframe thead th {\n",
              "        text-align: right;\n",
              "    }\n",
              "</style>\n",
              "<table border=\"1\" class=\"dataframe\">\n",
              "  <thead>\n",
              "    <tr style=\"text-align: right;\">\n",
              "      <th></th>\n",
              "      <th>Sl no.</th>\n",
              "      <th>District Name</th>\n",
              "      <th>Market Name</th>\n",
              "      <th>Commodity</th>\n",
              "      <th>Variety</th>\n",
              "      <th>Grade</th>\n",
              "      <th>Min Price (Rs./Quintal)</th>\n",
              "      <th>Max Price (Rs./Quintal)</th>\n",
              "      <th>Modal Price (Rs./Quintal)</th>\n",
              "      <th>Price Date</th>\n",
              "    </tr>\n",
              "  </thead>\n",
              "  <tbody>\n",
              "    <tr>\n",
              "      <th>0</th>\n",
              "      <td>1</td>\n",
              "      <td>Agra</td>\n",
              "      <td>Achnera</td>\n",
              "      <td>Potato</td>\n",
              "      <td>Desi</td>\n",
              "      <td>FAQ</td>\n",
              "      <td>900</td>\n",
              "      <td>1000</td>\n",
              "      <td>950</td>\n",
              "      <td>2020-12-30</td>\n",
              "    </tr>\n",
              "    <tr>\n",
              "      <th>1</th>\n",
              "      <td>2</td>\n",
              "      <td>Agra</td>\n",
              "      <td>Achnera</td>\n",
              "      <td>Potato</td>\n",
              "      <td>Desi</td>\n",
              "      <td>FAQ</td>\n",
              "      <td>800</td>\n",
              "      <td>900</td>\n",
              "      <td>850</td>\n",
              "      <td>2020-12-29</td>\n",
              "    </tr>\n",
              "    <tr>\n",
              "      <th>2</th>\n",
              "      <td>3</td>\n",
              "      <td>Agra</td>\n",
              "      <td>Achnera</td>\n",
              "      <td>Potato</td>\n",
              "      <td>Desi</td>\n",
              "      <td>FAQ</td>\n",
              "      <td>850</td>\n",
              "      <td>950</td>\n",
              "      <td>900</td>\n",
              "      <td>2020-12-28</td>\n",
              "    </tr>\n",
              "    <tr>\n",
              "      <th>3</th>\n",
              "      <td>4</td>\n",
              "      <td>Agra</td>\n",
              "      <td>Achnera</td>\n",
              "      <td>Potato</td>\n",
              "      <td>Desi</td>\n",
              "      <td>FAQ</td>\n",
              "      <td>800</td>\n",
              "      <td>900</td>\n",
              "      <td>850</td>\n",
              "      <td>2020-12-27</td>\n",
              "    </tr>\n",
              "    <tr>\n",
              "      <th>4</th>\n",
              "      <td>5</td>\n",
              "      <td>Agra</td>\n",
              "      <td>Achnera</td>\n",
              "      <td>Potato</td>\n",
              "      <td>Desi</td>\n",
              "      <td>FAQ</td>\n",
              "      <td>800</td>\n",
              "      <td>900</td>\n",
              "      <td>850</td>\n",
              "      <td>2020-12-26</td>\n",
              "    </tr>\n",
              "  </tbody>\n",
              "</table>\n",
              "</div>"
            ],
            "text/plain": [
              "   Sl no. District Name  ... Modal Price (Rs./Quintal) Price Date\n",
              "0       1          Agra  ...                       950 2020-12-30\n",
              "1       2          Agra  ...                       850 2020-12-29\n",
              "2       3          Agra  ...                       900 2020-12-28\n",
              "3       4          Agra  ...                       850 2020-12-27\n",
              "4       5          Agra  ...                       850 2020-12-26\n",
              "\n",
              "[5 rows x 10 columns]"
            ]
          },
          "metadata": {},
          "execution_count": 16
        }
      ]
    },
    {
      "cell_type": "markdown",
      "metadata": {
        "id": "fhgacFcwCDAN"
      },
      "source": [
        "# Data Cleaning"
      ]
    },
    {
      "cell_type": "code",
      "metadata": {
        "id": "7qCDSXmxCDAN"
      },
      "source": [
        "data.drop('District Name',inplace=True,axis=1)"
      ],
      "execution_count": null,
      "outputs": []
    },
    {
      "cell_type": "code",
      "metadata": {
        "id": "Xr_AUAB9CDAP"
      },
      "source": [
        "data.drop('Grade',inplace=True,axis=1)"
      ],
      "execution_count": null,
      "outputs": []
    },
    {
      "cell_type": "code",
      "metadata": {
        "id": "nnxuLC0kCDAR"
      },
      "source": [
        "data.drop('Commodity',inplace=True,axis=1)"
      ],
      "execution_count": null,
      "outputs": []
    },
    {
      "cell_type": "code",
      "metadata": {
        "id": "kogvIUrlCDAS"
      },
      "source": [
        "data.drop('Sl no.',inplace=True,axis=1)"
      ],
      "execution_count": null,
      "outputs": []
    },
    {
      "cell_type": "code",
      "metadata": {
        "id": "epokxbgqCDAS"
      },
      "source": [
        "data.drop('Price Date',inplace=True,axis=1)"
      ],
      "execution_count": null,
      "outputs": []
    },
    {
      "cell_type": "markdown",
      "metadata": {
        "id": "SslVmcVnCDAk"
      },
      "source": [
        "# The features of the data are Market Name, Variety, Min Price (Rs./Quintal),\tMax Price (Rs./Quintal)  and target variable is  Modal Price (Rs./Quintal)"
      ]
    },
    {
      "cell_type": "code",
      "metadata": {
        "id": "7f9hjR_hCDAl",
        "colab": {
          "base_uri": "https://localhost:8080/",
          "height": 204
        },
        "outputId": "0281b294-b4ea-4da5-bb60-8979e7c4f2a8"
      },
      "source": [
        "data.head()"
      ],
      "execution_count": null,
      "outputs": [
        {
          "output_type": "execute_result",
          "data": {
            "text/html": [
              "<div>\n",
              "<style scoped>\n",
              "    .dataframe tbody tr th:only-of-type {\n",
              "        vertical-align: middle;\n",
              "    }\n",
              "\n",
              "    .dataframe tbody tr th {\n",
              "        vertical-align: top;\n",
              "    }\n",
              "\n",
              "    .dataframe thead th {\n",
              "        text-align: right;\n",
              "    }\n",
              "</style>\n",
              "<table border=\"1\" class=\"dataframe\">\n",
              "  <thead>\n",
              "    <tr style=\"text-align: right;\">\n",
              "      <th></th>\n",
              "      <th>Market Name</th>\n",
              "      <th>Variety</th>\n",
              "      <th>Min Price (Rs./Quintal)</th>\n",
              "      <th>Max Price (Rs./Quintal)</th>\n",
              "      <th>Modal Price (Rs./Quintal)</th>\n",
              "    </tr>\n",
              "  </thead>\n",
              "  <tbody>\n",
              "    <tr>\n",
              "      <th>0</th>\n",
              "      <td>Achnera</td>\n",
              "      <td>Desi</td>\n",
              "      <td>900</td>\n",
              "      <td>1000</td>\n",
              "      <td>950</td>\n",
              "    </tr>\n",
              "    <tr>\n",
              "      <th>1</th>\n",
              "      <td>Achnera</td>\n",
              "      <td>Desi</td>\n",
              "      <td>800</td>\n",
              "      <td>900</td>\n",
              "      <td>850</td>\n",
              "    </tr>\n",
              "    <tr>\n",
              "      <th>2</th>\n",
              "      <td>Achnera</td>\n",
              "      <td>Desi</td>\n",
              "      <td>850</td>\n",
              "      <td>950</td>\n",
              "      <td>900</td>\n",
              "    </tr>\n",
              "    <tr>\n",
              "      <th>3</th>\n",
              "      <td>Achnera</td>\n",
              "      <td>Desi</td>\n",
              "      <td>800</td>\n",
              "      <td>900</td>\n",
              "      <td>850</td>\n",
              "    </tr>\n",
              "    <tr>\n",
              "      <th>4</th>\n",
              "      <td>Achnera</td>\n",
              "      <td>Desi</td>\n",
              "      <td>800</td>\n",
              "      <td>900</td>\n",
              "      <td>850</td>\n",
              "    </tr>\n",
              "  </tbody>\n",
              "</table>\n",
              "</div>"
            ],
            "text/plain": [
              "  Market Name Variety  ...  Max Price (Rs./Quintal)  Modal Price (Rs./Quintal)\n",
              "0     Achnera    Desi  ...                     1000                        950\n",
              "1     Achnera    Desi  ...                      900                        850\n",
              "2     Achnera    Desi  ...                      950                        900\n",
              "3     Achnera    Desi  ...                      900                        850\n",
              "4     Achnera    Desi  ...                      900                        850\n",
              "\n",
              "[5 rows x 5 columns]"
            ]
          },
          "metadata": {},
          "execution_count": 22
        }
      ]
    },
    {
      "cell_type": "code",
      "metadata": {
        "id": "4YgCBtUACDAm",
        "colab": {
          "base_uri": "https://localhost:8080/"
        },
        "outputId": "93b3a308-01a1-4777-b71f-dec0baa2562e"
      },
      "source": [
        "data.isnull().sum()"
      ],
      "execution_count": null,
      "outputs": [
        {
          "output_type": "execute_result",
          "data": {
            "text/plain": [
              "Market Name                  0\n",
              "Variety                      0\n",
              "Min Price (Rs./Quintal)      0\n",
              "Max Price (Rs./Quintal)      0\n",
              "Modal Price (Rs./Quintal)    0\n",
              "dtype: int64"
            ]
          },
          "metadata": {},
          "execution_count": 23
        }
      ]
    },
    {
      "cell_type": "code",
      "metadata": {
        "id": "jXNjc3vXCDAo"
      },
      "source": [
        "data1 = data.copy()"
      ],
      "execution_count": null,
      "outputs": []
    },
    {
      "cell_type": "markdown",
      "metadata": {
        "id": "xAJx9R3QCDAp"
      },
      "source": [
        "# Data Preprocessing"
      ]
    },
    {
      "cell_type": "code",
      "metadata": {
        "id": "FSj0wYLxCDAq"
      },
      "source": [
        "from sklearn.preprocessing import LabelEncoder\n",
        "for column in data1.columns[0:len(data1.columns)] :\n",
        "    le = LabelEncoder()\n",
        "    data1[column] = le.fit_transform(data1[column])"
      ],
      "execution_count": null,
      "outputs": []
    },
    {
      "cell_type": "markdown",
      "metadata": {
        "id": "7l9HJyjlCDAr"
      },
      "source": [
        "# Label Encoder Purpose -> In machine learning, we usually deal with datasets that contain multiple labels in one or more than one column. These labels can be in the form of words or numbers. To make the data understandable or in human-readable form, the training data is often labeled in words. \n",
        "# Label Encoding refers to converting the labels into a numeric form so as to convert them into the machine-readable form. "
      ]
    },
    {
      "cell_type": "code",
      "metadata": {
        "id": "SfUui7soCDAs",
        "colab": {
          "base_uri": "https://localhost:8080/",
          "height": 359
        },
        "outputId": "290a07bd-7fb3-47d4-de1b-d46ac5185b1e"
      },
      "source": [
        "data1.head(10)"
      ],
      "execution_count": null,
      "outputs": [
        {
          "output_type": "execute_result",
          "data": {
            "text/html": [
              "<div>\n",
              "<style scoped>\n",
              "    .dataframe tbody tr th:only-of-type {\n",
              "        vertical-align: middle;\n",
              "    }\n",
              "\n",
              "    .dataframe tbody tr th {\n",
              "        vertical-align: top;\n",
              "    }\n",
              "\n",
              "    .dataframe thead th {\n",
              "        text-align: right;\n",
              "    }\n",
              "</style>\n",
              "<table border=\"1\" class=\"dataframe\">\n",
              "  <thead>\n",
              "    <tr style=\"text-align: right;\">\n",
              "      <th></th>\n",
              "      <th>Market Name</th>\n",
              "      <th>Variety</th>\n",
              "      <th>Min Price (Rs./Quintal)</th>\n",
              "      <th>Max Price (Rs./Quintal)</th>\n",
              "      <th>Modal Price (Rs./Quintal)</th>\n",
              "    </tr>\n",
              "  </thead>\n",
              "  <tbody>\n",
              "    <tr>\n",
              "      <th>0</th>\n",
              "      <td>0</td>\n",
              "      <td>0</td>\n",
              "      <td>22</td>\n",
              "      <td>25</td>\n",
              "      <td>30</td>\n",
              "    </tr>\n",
              "    <tr>\n",
              "      <th>1</th>\n",
              "      <td>0</td>\n",
              "      <td>0</td>\n",
              "      <td>13</td>\n",
              "      <td>17</td>\n",
              "      <td>16</td>\n",
              "    </tr>\n",
              "    <tr>\n",
              "      <th>2</th>\n",
              "      <td>0</td>\n",
              "      <td>0</td>\n",
              "      <td>18</td>\n",
              "      <td>21</td>\n",
              "      <td>24</td>\n",
              "    </tr>\n",
              "    <tr>\n",
              "      <th>3</th>\n",
              "      <td>0</td>\n",
              "      <td>0</td>\n",
              "      <td>13</td>\n",
              "      <td>17</td>\n",
              "      <td>16</td>\n",
              "    </tr>\n",
              "    <tr>\n",
              "      <th>4</th>\n",
              "      <td>0</td>\n",
              "      <td>0</td>\n",
              "      <td>13</td>\n",
              "      <td>17</td>\n",
              "      <td>16</td>\n",
              "    </tr>\n",
              "    <tr>\n",
              "      <th>5</th>\n",
              "      <td>0</td>\n",
              "      <td>0</td>\n",
              "      <td>13</td>\n",
              "      <td>17</td>\n",
              "      <td>16</td>\n",
              "    </tr>\n",
              "    <tr>\n",
              "      <th>6</th>\n",
              "      <td>0</td>\n",
              "      <td>0</td>\n",
              "      <td>26</td>\n",
              "      <td>29</td>\n",
              "      <td>37</td>\n",
              "    </tr>\n",
              "    <tr>\n",
              "      <th>7</th>\n",
              "      <td>0</td>\n",
              "      <td>0</td>\n",
              "      <td>15</td>\n",
              "      <td>19</td>\n",
              "      <td>20</td>\n",
              "    </tr>\n",
              "    <tr>\n",
              "      <th>8</th>\n",
              "      <td>0</td>\n",
              "      <td>0</td>\n",
              "      <td>13</td>\n",
              "      <td>17</td>\n",
              "      <td>16</td>\n",
              "    </tr>\n",
              "    <tr>\n",
              "      <th>9</th>\n",
              "      <td>0</td>\n",
              "      <td>0</td>\n",
              "      <td>13</td>\n",
              "      <td>17</td>\n",
              "      <td>16</td>\n",
              "    </tr>\n",
              "  </tbody>\n",
              "</table>\n",
              "</div>"
            ],
            "text/plain": [
              "   Market Name  Variety  ...  Max Price (Rs./Quintal)  Modal Price (Rs./Quintal)\n",
              "0            0        0  ...                       25                         30\n",
              "1            0        0  ...                       17                         16\n",
              "2            0        0  ...                       21                         24\n",
              "3            0        0  ...                       17                         16\n",
              "4            0        0  ...                       17                         16\n",
              "5            0        0  ...                       17                         16\n",
              "6            0        0  ...                       29                         37\n",
              "7            0        0  ...                       19                         20\n",
              "8            0        0  ...                       17                         16\n",
              "9            0        0  ...                       17                         16\n",
              "\n",
              "[10 rows x 5 columns]"
            ]
          },
          "metadata": {},
          "execution_count": 26
        }
      ]
    },
    {
      "cell_type": "code",
      "metadata": {
        "id": "wRqDbXoCCDAt",
        "colab": {
          "base_uri": "https://localhost:8080/"
        },
        "outputId": "bfd82948-1107-4d2b-fc98-ab0198a639bc"
      },
      "source": [
        "data1['Market Name'].unique()"
      ],
      "execution_count": null,
      "outputs": [
        {
          "output_type": "execute_result",
          "data": {
            "text/plain": [
              "array([0, 1, 2, 3, 4, 5, 6, 7])"
            ]
          },
          "metadata": {},
          "execution_count": 27
        }
      ]
    },
    {
      "cell_type": "code",
      "metadata": {
        "id": "K_6_HeWfCDAu",
        "colab": {
          "base_uri": "https://localhost:8080/"
        },
        "outputId": "8c31aac3-9387-42f4-c3af-fcbc2e91f7c6"
      },
      "source": [
        "le1=LabelEncoder()\n",
        "le1.fit_transform(data['Market Name'])\n",
        "le1.inverse_transform(data1['Market Name'].unique())"
      ],
      "execution_count": null,
      "outputs": [
        {
          "output_type": "execute_result",
          "data": {
            "text/plain": [
              "array(['Achnera', 'Agra', 'Fatehabad', 'Fatehpur Sikri', 'Jagnair',\n",
              "       'Jarar', 'Khairagarh', 'Samsabad'], dtype=object)"
            ]
          },
          "metadata": {},
          "execution_count": 28
        }
      ]
    },
    {
      "cell_type": "markdown",
      "metadata": {
        "id": "YsYmN1meCDAx"
      },
      "source": [
        "# Label Encoder can inverse transform also so that you can know that what are the values to be entered for prediction as the label for that value is present already"
      ]
    },
    {
      "cell_type": "code",
      "metadata": {
        "id": "vT6GesaWCDAy",
        "colab": {
          "base_uri": "https://localhost:8080/"
        },
        "outputId": "86745590-706c-4740-c5a7-1f01f52a6d21"
      },
      "source": [
        "data1['Variety'].unique()"
      ],
      "execution_count": null,
      "outputs": [
        {
          "output_type": "execute_result",
          "data": {
            "text/plain": [
              "array([0, 3, 1, 2])"
            ]
          },
          "metadata": {},
          "execution_count": 29
        }
      ]
    },
    {
      "cell_type": "code",
      "metadata": {
        "id": "FV4YVjW0CDA0",
        "colab": {
          "base_uri": "https://localhost:8080/"
        },
        "outputId": "f75648f8-4d5c-40e1-f385-f3b45de7ec05"
      },
      "source": [
        "le2=LabelEncoder()\n",
        "le2.fit_transform(data['Variety'])\n",
        "le2.inverse_transform(data1['Variety'].unique())"
      ],
      "execution_count": null,
      "outputs": [
        {
          "output_type": "execute_result",
          "data": {
            "text/plain": [
              "array(['Desi', 'Potato', 'Local', 'Other'], dtype=object)"
            ]
          },
          "metadata": {},
          "execution_count": 30
        }
      ]
    },
    {
      "cell_type": "markdown",
      "metadata": {
        "id": "q65pcEJBCDA2"
      },
      "source": [
        "# Check for any null values present or not"
      ]
    },
    {
      "cell_type": "code",
      "metadata": {
        "id": "m7Eyr7uqCDA3",
        "colab": {
          "base_uri": "https://localhost:8080/"
        },
        "outputId": "512f7cbc-9f1b-40c9-be1c-ae2c93bc4cf8"
      },
      "source": [
        "data1.isnull().sum()"
      ],
      "execution_count": null,
      "outputs": [
        {
          "output_type": "execute_result",
          "data": {
            "text/plain": [
              "Market Name                  0\n",
              "Variety                      0\n",
              "Min Price (Rs./Quintal)      0\n",
              "Max Price (Rs./Quintal)      0\n",
              "Modal Price (Rs./Quintal)    0\n",
              "dtype: int64"
            ]
          },
          "metadata": {},
          "execution_count": 31
        }
      ]
    },
    {
      "cell_type": "markdown",
      "metadata": {
        "id": "9Gijp68FCDA4"
      },
      "source": [
        "# Train Test Split"
      ]
    },
    {
      "cell_type": "code",
      "metadata": {
        "id": "hsenHIQ1CDA6"
      },
      "source": [
        "from sklearn.model_selection import train_test_split\n",
        "\n",
        "\n",
        "X = data1.drop(columns='Modal Price (Rs./Quintal)', axis=1)\n",
        "Y = data1['Modal Price (Rs./Quintal)']\n",
        "\n",
        "x_train, x_test, y_train, y_test = train_test_split(X, Y, test_size=0.4, random_state=101)"
      ],
      "execution_count": null,
      "outputs": []
    },
    {
      "cell_type": "markdown",
      "metadata": {
        "id": "3PsiBSMaCDA7"
      },
      "source": [
        "# I am first testing with linear regression because our prediction will be different values not only binary classification problem like 0 or 1."
      ]
    },
    {
      "cell_type": "code",
      "metadata": {
        "id": "dpj8WL0QCDA7"
      },
      "source": [
        "from sklearn.linear_model import LinearRegression"
      ],
      "execution_count": null,
      "outputs": []
    },
    {
      "cell_type": "code",
      "metadata": {
        "id": "K9v5Ek4CCDA8"
      },
      "source": [
        "model1 = LinearRegression()"
      ],
      "execution_count": null,
      "outputs": []
    },
    {
      "cell_type": "code",
      "metadata": {
        "id": "ORiTUwXGCDA9",
        "colab": {
          "base_uri": "https://localhost:8080/"
        },
        "outputId": "88be01c9-95aa-4971-a40b-4f839cc1837e"
      },
      "source": [
        "model1.fit(x_train,y_train)"
      ],
      "execution_count": null,
      "outputs": [
        {
          "output_type": "execute_result",
          "data": {
            "text/plain": [
              "LinearRegression(copy_X=True, fit_intercept=True, n_jobs=None, normalize=False)"
            ]
          },
          "metadata": {},
          "execution_count": 35
        }
      ]
    },
    {
      "cell_type": "code",
      "metadata": {
        "id": "p6QworgSCDA-",
        "colab": {
          "base_uri": "https://localhost:8080/"
        },
        "outputId": "74b87950-5f96-4d47-9e95-fb8ea8510e99"
      },
      "source": [
        "model1.intercept_"
      ],
      "execution_count": null,
      "outputs": [
        {
          "output_type": "execute_result",
          "data": {
            "text/plain": [
              "-5.5260651456432015"
            ]
          },
          "metadata": {},
          "execution_count": 36
        }
      ]
    },
    {
      "cell_type": "code",
      "metadata": {
        "id": "69hx3g7XCDA_",
        "colab": {
          "base_uri": "https://localhost:8080/"
        },
        "outputId": "d55fbdd9-2abc-4178-838d-6dc531173eaf"
      },
      "source": [
        "model1.coef_"
      ],
      "execution_count": null,
      "outputs": [
        {
          "output_type": "execute_result",
          "data": {
            "text/plain": [
              "array([-0.56948516,  7.95633042,  1.44073654,  0.4540512 ])"
            ]
          },
          "metadata": {},
          "execution_count": 37
        }
      ]
    },
    {
      "cell_type": "markdown",
      "metadata": {
        "id": "sZivZRikCDBA"
      },
      "source": [
        "# Scatter plot for Linear Regression to check the regression line"
      ]
    },
    {
      "cell_type": "code",
      "metadata": {
        "id": "FidM8I6GCDBB"
      },
      "source": [
        "from sklearn.metrics import accuracy_score\n",
        "x_test_prediction = model1.predict(x_test)\n",
        "# testing_data_accuracy = model1.score(x_test_prediction, y_test)"
      ],
      "execution_count": null,
      "outputs": []
    },
    {
      "cell_type": "code",
      "metadata": {
        "id": "EHMWGBCRCDBC",
        "colab": {
          "base_uri": "https://localhost:8080/",
          "height": 282
        },
        "outputId": "c381c92d-0948-4cc7-8914-d4c356db5fd9"
      },
      "source": [
        "plt.scatter(y_test,x_test_prediction)"
      ],
      "execution_count": null,
      "outputs": [
        {
          "output_type": "execute_result",
          "data": {
            "text/plain": [
              "<matplotlib.collections.PathCollection at 0x7fd2d86f6f90>"
            ]
          },
          "metadata": {},
          "execution_count": 39
        },
        {
          "output_type": "display_data",
          "data": {
            "image/png": "[encoded data removed]",
            "text/plain": [
              "<Figure size 432x288 with 1 Axes>"
            ]
          },
          "metadata": {
            "needs_background": "light"
          }
        }
      ]
    },
    {
      "cell_type": "markdown",
      "metadata": {
        "id": "fbp7S70qCDBG"
      },
      "source": [
        "# Loss function for Linear Regression"
      ]
    },
    {
      "cell_type": "code",
      "metadata": {
        "id": "AT28lFs3CDBH"
      },
      "source": [
        "from sklearn import metrics"
      ],
      "execution_count": null,
      "outputs": []
    },
    {
      "cell_type": "code",
      "metadata": {
        "id": "P3ZfS1QqCDBI",
        "colab": {
          "base_uri": "https://localhost:8080/"
        },
        "outputId": "5832c96c-e246-4295-dfa1-4d3b7c743e94"
      },
      "source": [
        "print('MAE:', metrics.mean_absolute_error(y_test, x_test_prediction))\n",
        "print('MSE:', metrics.mean_squared_error(y_test, x_test_prediction))\n",
        "print('RMSE:', np.sqrt(metrics.mean_squared_error(y_test, x_test_prediction)))"
      ],
      "execution_count": null,
      "outputs": [
        {
          "output_type": "stream",
          "name": "stdout",
          "text": [
            "MAE: 5.493539638718361\n",
            "MSE: 426.7885336160831\n",
            "RMSE: 20.658860898318743\n"
          ]
        }
      ]
    },
    {
      "cell_type": "markdown",
      "metadata": {
        "id": "9r0g2v9CCDBJ"
      },
      "source": [
        "# We will try for Random Forest Classifier also"
      ]
    },
    {
      "cell_type": "code",
      "metadata": {
        "id": "5V6plK-ACDBi",
        "colab": {
          "base_uri": "https://localhost:8080/"
        },
        "outputId": "fe0cd2f1-358b-49a2-c17b-ece21685738d"
      },
      "source": [
        "from sklearn.ensemble import RandomForestClassifier\n",
        "model2 = RandomForestClassifier(n_estimators = 100)\n",
        "model2.fit(x_train,y_train)"
      ],
      "execution_count": null,
      "outputs": [
        {
          "output_type": "execute_result",
          "data": {
            "text/plain": [
              "RandomForestClassifier(bootstrap=True, ccp_alpha=0.0, class_weight=None,\n",
              "                       criterion='gini', max_depth=None, max_features='auto',\n",
              "                       max_leaf_nodes=None, max_samples=None,\n",
              "                       min_impurity_decrease=0.0, min_impurity_split=None,\n",
              "                       min_samples_leaf=1, min_samples_split=2,\n",
              "                       min_weight_fraction_leaf=0.0, n_estimators=100,\n",
              "                       n_jobs=None, oob_score=False, random_state=None,\n",
              "                       verbose=0, warm_start=False)"
            ]
          },
          "metadata": {},
          "execution_count": 42
        }
      ]
    },
    {
      "cell_type": "code",
      "metadata": {
        "id": "J4nM6W95CDBk"
      },
      "source": [
        "x_test_prediction2 = model2.predict(x_test)\n",
        "test_data_accuracy2 = accuracy_score(x_test_prediction2, y_test)"
      ],
      "execution_count": null,
      "outputs": []
    },
    {
      "cell_type": "markdown",
      "metadata": {
        "id": "PTEKZPnICDBk"
      },
      "source": [
        "# Accuracy Score for Random Forest Classifier"
      ]
    },
    {
      "cell_type": "code",
      "metadata": {
        "id": "BGrK9gbuCDBl",
        "colab": {
          "base_uri": "https://localhost:8080/"
        },
        "outputId": "ba2a18d6-e251-41c1-b639-4fa789b589b1"
      },
      "source": [
        "print('Accuracy on Test data using Random Forest Classifier : ', test_data_accuracy2*100)"
      ],
      "execution_count": null,
      "outputs": [
        {
          "output_type": "stream",
          "name": "stdout",
          "text": [
            "Accuracy on Test data using Random Forest Classifier :  63.20109439124487\n"
          ]
        }
      ]
    },
    {
      "cell_type": "markdown",
      "metadata": {
        "id": "FUnCI-B7CDBm"
      },
      "source": [
        "# Training using Decision Tree Classifier "
      ]
    },
    {
      "cell_type": "code",
      "metadata": {
        "id": "d0378JVKCDBn",
        "colab": {
          "base_uri": "https://localhost:8080/"
        },
        "outputId": "0995db3f-b772-4a10-d1d6-a5738ca37f32"
      },
      "source": [
        "from sklearn.tree import DecisionTreeClassifier\n",
        "model3 = DecisionTreeClassifier(random_state=101)\n",
        "model3.fit(x_train, y_train)"
      ],
      "execution_count": null,
      "outputs": [
        {
          "output_type": "execute_result",
          "data": {
            "text/plain": [
              "DecisionTreeClassifier(ccp_alpha=0.0, class_weight=None, criterion='gini',\n",
              "                       max_depth=None, max_features=None, max_leaf_nodes=None,\n",
              "                       min_impurity_decrease=0.0, min_impurity_split=None,\n",
              "                       min_samples_leaf=1, min_samples_split=2,\n",
              "                       min_weight_fraction_leaf=0.0, presort='deprecated',\n",
              "                       random_state=101, splitter='best')"
            ]
          },
          "metadata": {},
          "execution_count": 45
        }
      ]
    },
    {
      "cell_type": "code",
      "metadata": {
        "id": "Exe40IvfCDBo"
      },
      "source": [
        "x_test_prediction3 = model3.predict(x_test)\n",
        "test_data_accuracy3 = accuracy_score(x_test_prediction3, y_test)"
      ],
      "execution_count": null,
      "outputs": []
    },
    {
      "cell_type": "markdown",
      "metadata": {
        "id": "KqXtMw2aCDBp"
      },
      "source": [
        "# Accuracy Score for Decision Tree Classifier"
      ]
    },
    {
      "cell_type": "code",
      "metadata": {
        "id": "5jlepc8DCDBq",
        "colab": {
          "base_uri": "https://localhost:8080/"
        },
        "outputId": "46092aac-c3dc-4262-be6f-a04296ba17c6"
      },
      "source": [
        "print('Accuracy on Test data using Decision Tree Classifier : ', test_data_accuracy3*100)"
      ],
      "execution_count": null,
      "outputs": [
        {
          "output_type": "stream",
          "name": "stdout",
          "text": [
            "Accuracy on Test data using Decision Tree Classifier :  63.748290013679885\n"
          ]
        }
      ]
    },
    {
      "cell_type": "code",
      "metadata": {
        "id": "vMkVeTRVCDBr",
        "colab": {
          "base_uri": "https://localhost:8080/"
        },
        "outputId": "1ee306f4-cd2e-4920-9ab2-db4ddfe0ed20"
      },
      "source": [
        "x_test.values"
      ],
      "execution_count": null,
      "outputs": [
        {
          "output_type": "execute_result",
          "data": {
            "text/plain": [
              "array([[ 7,  1, 22, 33],\n",
              "       [ 0,  0, 92, 93],\n",
              "       [ 7,  1, 34, 46],\n",
              "       ...,\n",
              "       [ 2,  0, 42, 46],\n",
              "       [ 6,  0, 28, 33],\n",
              "       [ 0,  0, 22, 22]])"
            ]
          },
          "metadata": {},
          "execution_count": 48
        }
      ]
    },
    {
      "cell_type": "markdown",
      "metadata": {
        "id": "HxwOCSblCDBs"
      },
      "source": [
        "# Predicting the new data using Linear Regression"
      ]
    },
    {
      "cell_type": "code",
      "metadata": {
        "id": "qXKw4FulCDBt"
      },
      "source": [
        "# Achnera = 0, Desi = 0, min price = 13 , max price= 17\n",
        "prediction = model1.predict(np.array([[0,0,13,17]]))"
      ],
      "execution_count": null,
      "outputs": []
    },
    {
      "cell_type": "code",
      "metadata": {
        "id": "Daa8h6O-CDBu",
        "colab": {
          "base_uri": "https://localhost:8080/"
        },
        "outputId": "99cd5791-8bf3-4649-b1d9-96d7037f61de"
      },
      "source": [
        "print(\"predicted rate of crop of potato is \",prediction[0])"
      ],
      "execution_count": null,
      "outputs": [
        {
          "output_type": "stream",
          "name": "stdout",
          "text": [
            "predicted rate of crop of potato is  20.922380269119483\n"
          ]
        }
      ]
    },
    {
      "cell_type": "code",
      "metadata": {
        "id": "T1kFYNPPCDBv"
      },
      "source": [
        ""
      ],
      "execution_count": null,
      "outputs": []
    }
  ]
}